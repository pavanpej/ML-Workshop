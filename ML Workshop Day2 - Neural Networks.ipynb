{
 "cells": [
  {
   "cell_type": "markdown",
   "metadata": {},
   "source": [
    "# Neural Networks\n",
    "## Day 2 - ML Workshop\n",
    "---"
   ]
  },
  {
   "cell_type": "code",
   "execution_count": 54,
   "metadata": {
    "collapsed": true
   },
   "outputs": [],
   "source": [
    "import numpy as np\n",
    "import pandas as pd\n",
    "import matplotlib.pyplot as plt\n",
    "%matplotlib inline"
   ]
  },
  {
   "cell_type": "code",
   "execution_count": 55,
   "metadata": {
    "collapsed": true
   },
   "outputs": [],
   "source": [
    "def activate(z):\n",
    "    return 1 / (1 + np.exp(-z))"
   ]
  },
  {
   "cell_type": "code",
   "execution_count": 56,
   "metadata": {
    "collapsed": true
   },
   "outputs": [],
   "source": [
    "def diff_activate(x):\n",
    "    return x * (1-x)"
   ]
  },
  {
   "cell_type": "code",
   "execution_count": 57,
   "metadata": {
    "collapsed": true
   },
   "outputs": [],
   "source": [
    "def feedForward(x, w0, w1):\n",
    "    layer0 = x\n",
    "    layer1 = activate(np.dot(x, w0))\n",
    "    layer2 = activate(np.dot(layer1, w1))\n",
    "    \n",
    "    return layer0, layer1, layer2"
   ]
  },
  {
   "cell_type": "code",
   "execution_count": 75,
   "metadata": {
    "collapsed": true
   },
   "outputs": [],
   "source": [
    "def backprop(i, layer0, layer1, layer2, y, w0, w1, lr):\n",
    "    \n",
    "    layer2_error = layer2 - y\n",
    "    layer2_delta = layer2_error * diff_activate(layer2)\n",
    "    grad2 = np.dot(layer1.T, layer2_delta)\n",
    "    \n",
    "    layer1_error = layer2_delta.dot(w1.T)\n",
    "    layer1_delta = layer1_error * diff_activate(layer1)\n",
    "    grad1 = np.dot(layer0.T, layer1_delta)\n",
    "    \n",
    "    w1 -= (grad2 * lr)\n",
    "    w0 -= (grad1 * lr)\n",
    "    \n",
    "    if i%1000 == 0:\n",
    "        print(np.mean(np.abs(layer2_error)))\n",
    "        \n",
    "    return w0, w1"
   ]
  },
  {
   "cell_type": "code",
   "execution_count": 76,
   "metadata": {
    "collapsed": true
   },
   "outputs": [],
   "source": [
    "# XOR Gates\n",
    "x = np.array([\n",
    "    [0,0,0],\n",
    "    [0,0,1],\n",
    "    [0,1,0],\n",
    "    [0,1,1],\n",
    "    [1,0,0],\n",
    "    [1,0,1],\n",
    "    [1,1,0],\n",
    "    [1,1,1]\n",
    "])\n",
    "y = np.array([\n",
    "    [0],\n",
    "    [1],\n",
    "    [1],\n",
    "    [0],\n",
    "    [1],\n",
    "    [0],\n",
    "    [0],\n",
    "    [1]\n",
    "])"
   ]
  },
  {
   "cell_type": "code",
   "execution_count": 77,
   "metadata": {
    "collapsed": true
   },
   "outputs": [],
   "source": [
    "np.random.seed(3)\n",
    "\n",
    "w0 = np.random.random((3,2))\n",
    "w1 = np.random.random((2,1))"
   ]
  },
  {
   "cell_type": "code",
   "execution_count": 78,
   "metadata": {
    "scrolled": true
   },
   "outputs": [
    {
     "name": "stdout",
     "output_type": "stream",
     "text": [
      "0.5000908374641712\n",
      "0.5000005934415117\n",
      "0.49999971034465546\n",
      "0.4999989074092184\n",
      "0.4999981286240214\n",
      "0.49999732258146046\n",
      "0.49999643680530476\n",
      "0.49999541222882643\n",
      "0.4999941768465729\n",
      "0.4999926374393\n"
     ]
    }
   ],
   "source": [
    "steps = 10000\n",
    "lr = 0.08\n",
    "\n",
    "for i in range(steps):\n",
    "    layer0, layer1, layer2 = feedForward(x, w0, w1)\n",
    "    w0, w1 = backprop(i, layer0, layer1, layer2, y, w0, w1, lr)"
   ]
  },
  {
   "cell_type": "code",
   "execution_count": 79,
   "metadata": {},
   "outputs": [
    {
     "data": {
      "text/plain": [
       "array([[0.50005153],\n",
       "       [0.49831639]])"
      ]
     },
     "execution_count": 79,
     "metadata": {},
     "output_type": "execute_result"
    }
   ],
   "source": [
    "feedForward([[0,0,1], [1,1,0]], w0, w1)[-1]"
   ]
  },
  {
   "cell_type": "code",
   "execution_count": null,
   "metadata": {
    "collapsed": true
   },
   "outputs": [],
   "source": []
  },
  {
   "cell_type": "code",
   "execution_count": null,
   "metadata": {
    "collapsed": true
   },
   "outputs": [],
   "source": []
  }
 ],
 "metadata": {
  "kernelspec": {
   "display_name": "Python 3",
   "language": "python",
   "name": "python3"
  },
  "language_info": {
   "codemirror_mode": {
    "name": "ipython",
    "version": 3
   },
   "file_extension": ".py",
   "mimetype": "text/x-python",
   "name": "python",
   "nbconvert_exporter": "python",
   "pygments_lexer": "ipython3",
   "version": "3.6.4"
  }
 },
 "nbformat": 4,
 "nbformat_minor": 2
}
